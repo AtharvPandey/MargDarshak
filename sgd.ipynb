{
 "cells": [
  {
   "cell_type": "code",
   "execution_count": 3,
   "metadata": {},
   "outputs": [
    {
     "name": "stdout",
     "output_type": "stream",
     "text": [
      "[[9 1 1 ... 1 1 1]\n",
      " [9 2 1 ... 1 1 1]\n",
      " [9 3 1 ... 1 1 1]\n",
      " ...\n",
      " [1 1 1 ... 6 6 9]\n",
      " [1 1 1 ... 7 7 9]\n",
      " [1 1 1 ... 7 5 9]]\n",
      "hi\n",
      "['Database Administrator' 'Database Administrator'\n",
      " 'Database Administrator' ... 'Graphics Designer' 'Graphics Designer'\n",
      " 'Graphics Designer']\n",
      "                                 precision    recall  f1-score   support\n",
      "\n",
      "               AI ML Specialist       1.00      0.98      0.99       154\n",
      "     API Integration Specialist       1.00      1.00      1.00       175\n",
      "   Application Support Engineer       1.00      1.00      1.00       159\n",
      "               Business Analyst       1.00      1.00      1.00       156\n",
      "     Customer Service Executive       0.99      1.00      0.99       166\n",
      "      Cyber Security Specialist       1.00      0.77      0.87       151\n",
      "                 Data Scientist       0.99      0.89      0.94       160\n",
      "         Database Administrator       1.00      1.00      1.00       155\n",
      "              Graphics Designer       1.00      1.00      1.00       155\n",
      "              Hardware Engineer       0.83      1.00      0.91       171\n",
      "              Helpdesk Engineer       1.00      0.99      1.00       162\n",
      "Information Security Specialist       0.94      1.00      0.97       162\n",
      "            Networking Engineer       0.99      1.00      0.99       139\n",
      "                Project Manager       0.94      1.00      0.97       170\n",
      "             Software Developer       1.00      1.00      1.00       169\n",
      "                Software Tester       0.99      1.00      1.00       172\n",
      "               Technical Writer       1.00      0.97      0.99       178\n",
      "\n",
      "                       accuracy                           0.98      2754\n",
      "                      macro avg       0.98      0.98      0.98      2754\n",
      "                   weighted avg       0.98      0.98      0.98      2754\n",
      "\n",
      "Accuracy= 97.82135076252723\n"
     ]
    },
    {
     "name": "stderr",
     "output_type": "stream",
     "text": [
      "e:\\frontend\\MARG-DARSHAK\\pythoncode\\.venv\\Lib\\site-packages\\sklearn\\linear_model\\_stochastic_gradient.py:744: ConvergenceWarning: Maximum number of iteration reached before convergence. Consider increasing max_iter to improve the fit.\n",
      "  warnings.warn(\n"
     ]
    }
   ],
   "source": [
    "import pandas as pd\n",
    "import pickle\n",
    "import numpy as np\n",
    "from sklearn.linear_model import SGDClassifier\n",
    "from sklearn.metrics import classification_report\n",
    "\n",
    "career = pd.read_csv('dataset9000.data', header = None)\n",
    "#np.dtype('float64')\n",
    "\n",
    "X = np.array(career.iloc[:,0:17]) #X is skills\n",
    "print(X)\n",
    "y = np.array(career.iloc[:,17]) #Y is Roles\n",
    "print(\"hi\")\n",
    "print(y)\n",
    "# class_names=career.target_names\n",
    "##  attribute to return the column labels of the given Dataframe\n",
    "career.columns = [\"Database Fundamentals\",\"Computer Architecture\",\"Distributed Computing Systems\",\n",
    "\"Cyber Security\",\"Networking\",\"Development\",\"Programming Skills\",\"Project Management\",\n",
    "\"Computer Forensics Fundamentals\",\"Technical Communication\",\"AI ML\",\"Software Engineering\",\"Business Analysis\",\n",
    "\"Communication skills\",\"Data Science\",\"Troubleshooting skills\",\"Graphics Designing\",\"Roles\"]\n",
    "\n",
    "career.dropna(how ='all', inplace = True)\n",
    "#print(\"career.dropna(how ='all', inplace = True)\",career.dropna(how ='all', inplace = True))\n",
    "career.head()\n",
    "## splitting the data into training and test sets\n",
    "\n",
    "from sklearn.model_selection import train_test_split\n",
    "X_train, X_test, y_train, y_test = train_test_split(X, y,test_size = 0.3, random_state = 524)\n",
    "sgdc = SGDClassifier(max_iter=6, tol=0.12)\n",
    "sgdc.fit(X_train, y_train)\n",
    "y_pred = sgdc.predict(X_test)\n",
    "score = sgdc.score(X_train, y_train)\n",
    "from sklearn import metrics\n",
    "scores = {}\n",
    "print(classification_report(y_test,y_pred))\n",
    "\n",
    "\n",
    "\n",
    "scores[5] = metrics.accuracy_score(y_test, y_pred)\n",
    "print('Accuracy=',scores[5]*100)\n",
    "\n",
    "\n",
    "\n",
    "\n"
   ]
  },
  {
   "cell_type": "code",
   "execution_count": null,
   "metadata": {},
   "outputs": [],
   "source": []
  }
 ],
 "metadata": {
  "kernelspec": {
   "display_name": ".venv",
   "language": "python",
   "name": "python3"
  },
  "language_info": {
   "codemirror_mode": {
    "name": "ipython",
    "version": 3
   },
   "file_extension": ".py",
   "mimetype": "text/x-python",
   "name": "python",
   "nbconvert_exporter": "python",
   "pygments_lexer": "ipython3",
   "version": "3.12.2"
  }
 },
 "nbformat": 4,
 "nbformat_minor": 2
}
